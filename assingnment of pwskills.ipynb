{
 "cells": [
  {
   "cell_type": "markdown",
   "id": "8f78efe4-c462-4c4a-a3eb-ee51e68d09d3",
   "metadata": {},
   "source": [
    "Q1. What is multiprocessing in python? Why is it useful?"
   ]
  },
  {
   "cell_type": "markdown",
   "id": "64db7151-a1d3-4032-831a-afbacf821371",
   "metadata": {},
   "source": [
    "In general multiproccesing in python where where use multiple process in a single thread . its ability of system tob support multiple proccesor at the same time . it enables to to broke down to smaller rountine and enables to run independently which bring the efficiency in the programing\n",
    "multiprocessing module can be acces by import multiprocessing module\n",
    "\n",
    "it useful because of myriad of reason such as \n",
    "1 it improve the performance of the programe by broken into multiple processor\n",
    "2 it speeeing up the code\n",
    "3 brek thread and run independently\n",
    "4 allow system to run multiple process simultaneously"
   ]
  },
  {
   "cell_type": "markdown",
   "id": "4f9f5a2d-079f-4acc-bc4a-ef71f75fa45c",
   "metadata": {},
   "source": [
    "Q3. Write a python code to create a process using the multiprocessing module."
   ]
  },
  {
   "cell_type": "code",
   "execution_count": 31,
   "id": "b3e16096-660f-4f18-b1cd-23aa98d84b9f",
   "metadata": {},
   "outputs": [
    {
     "name": "stdout",
     "output_type": "stream",
     "text": [
      "this is my child func\n",
      "this is my function\n"
     ]
    }
   ],
   "source": [
    "import multiprocessing\n",
    "def test():\n",
    "    \n",
    "    print('this is my function')\n",
    "\n",
    "if __name__=='__main__':\n",
    "    m1=multiprocessing.Process(target=test)\n",
    "    print('this is my child func')\n",
    "    m1.start()\n",
    "    m1.join()"
   ]
  },
  {
   "cell_type": "markdown",
   "id": "025b2227-75e4-4d7c-87ba-77da72588bf0",
   "metadata": {},
   "source": [
    "Q4. What is a multiprocessing pool in python? Why is it used?"
   ]
  },
  {
   "cell_type": "code",
   "execution_count": 32,
   "id": "2c6ff775-101d-437f-ad8c-c3a7aeb00451",
   "metadata": {},
   "outputs": [
    {
     "name": "stdout",
     "output_type": "stream",
     "text": [
      "[(1, 3), (8, 4), (27, 5), (64, 6), (125, 7), (216, 8)]\n"
     ]
    }
   ],
   "source": [
    "#create program of cube\n",
    "def cube(n):\n",
    "    return n**3,n+2\n",
    "if __name__=='__main__':\n",
    "    with multiprocessing.Pool(processes=3) as pool:\n",
    "        a=  pool.map(cube,[1,2,3,4,5,6])\n",
    "        print(a)"
   ]
  },
  {
   "cell_type": "markdown",
   "id": "78b987bf-faa7-4c72-a5a4-d59def08b0b4",
   "metadata": {},
   "source": [
    "multiprocessing pool is acces via module of multiprocessing itself it allows to create and manage process pool in python .it can used for parallel execution of function across multiple input ,distributing input data across process\n",
    "used= allow to run multiple job per process,parallel execution of function across multiple input ,distributing input data across process\n"
   ]
  },
  {
   "cell_type": "markdown",
   "id": "fae4e885-5e78-40a8-ac18-6e93183b9c33",
   "metadata": {},
   "source": [
    "Q5. How can we create a pool of worker processes in python using the multiprocessing module?"
   ]
  },
  {
   "cell_type": "code",
   "execution_count": 33,
   "id": "e6e465d7-0f86-48c7-9933-b2874541eba1",
   "metadata": {},
   "outputs": [
    {
     "name": "stdout",
     "output_type": "stream",
     "text": [
      "[(1, 4), (4, 5), (9, 6), (16, 7), (25, 8), (36, 9)]\n"
     ]
    }
   ],
   "source": [
    "#create program of square\n",
    "def square(n):\n",
    "    return n**2,n+3\n",
    "if __name__=='__main__':\n",
    "    with multiprocessing.Pool(processes=3) as pool:\n",
    "        a=  pool.map(square,[1,2,3,4,5,6])\n",
    "        print(a)"
   ]
  },
  {
   "cell_type": "markdown",
   "id": "92d00d0c-5953-42bb-9de7-16903a77c453",
   "metadata": {},
   "source": [
    "Q6. Write a python program to create 4 processes, each process should print a different number using the\n",
    "multiprocessing module in python."
   ]
  },
  {
   "cell_type": "code",
   "execution_count": 34,
   "id": "cdb737e1-7561-4a0c-97a3-97557ebc6b39",
   "metadata": {},
   "outputs": [
    {
     "name": "stdout",
     "output_type": "stream",
     "text": [
      "[(1, 4, 2, 0.5), (4, 5, 4, 1.0), (9, 6, 6, 1.5), (16, 7, 8, 2.0), (25, 8, 10, 2.5), (36, 9, 12, 3.0)]\n"
     ]
    }
   ],
   "source": [
    "#create program of square\n",
    "def square(n):\n",
    "    return n**2,n+3,n*2,n/2\n",
    "if __name__=='__main__':\n",
    "    with multiprocessing.Pool(processes=4) as pool:\n",
    "        a=  pool.map(square,[1,2,3,4,5,6])\n",
    "        print(a)"
   ]
  },
  {
   "cell_type": "markdown",
   "id": "e274dc9f-b4a2-4796-844f-327579fbf0f4",
   "metadata": {},
   "source": [
    "Q2. What are the differences between multiprocessing and multithreading?"
   ]
  },
  {
   "cell_type": "markdown",
   "id": "e2d9e1f2-d87d-4fcc-a142-91702000c4e0",
   "metadata": {},
   "source": [
    "multiprocessing- 1 in the multiproccesing it enable multiple process by using single thread\n",
    "                 2 many process execute simultaneously\n",
    "                 3 it is cllasified into symmetric and asymetric\n",
    "                 4 multiprocessing is the time consuming process\n",
    "                 5  it can access by multiprocessing module\n",
    "                 \n",
    " \n",
    " Mulithreading-    1 in the multhreading use multiple thread of program in the singhle process\n",
    "                   2 many thread are execute simultaneously\n",
    "                   3 there is no such cllasification as difined in mutiprocessing\n",
    "                   4 however it not consuming the time as well\n",
    "                   5 it can access via multithreading module\n",
    "            "
   ]
  },
  {
   "cell_type": "code",
   "execution_count": null,
   "id": "3e20f69e-551d-4da9-8500-6939f2adc9ce",
   "metadata": {},
   "outputs": [],
   "source": []
  }
 ],
 "metadata": {
  "kernelspec": {
   "display_name": "Python 3 (ipykernel)",
   "language": "python",
   "name": "python3"
  },
  "language_info": {
   "codemirror_mode": {
    "name": "ipython",
    "version": 3
   },
   "file_extension": ".py",
   "mimetype": "text/x-python",
   "name": "python",
   "nbconvert_exporter": "python",
   "pygments_lexer": "ipython3",
   "version": "3.10.8"
  }
 },
 "nbformat": 4,
 "nbformat_minor": 5
}
